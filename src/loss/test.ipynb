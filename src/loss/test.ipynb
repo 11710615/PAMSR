{
 "cells": [
  {
   "cell_type": "code",
   "execution_count": null,
   "metadata": {},
   "outputs": [],
   "source": [
    "import UNetFamily\n",
    "import torch\n",
    "\n",
    "net = UNetFamily.U_Net(img_ch=1, output_ch=2)\n",
    "state_dict = torch.load('./unet_model.pth')\n",
    "net.load_state_dict(state_dict['net'])\n",
    "\n",
    "input = torch.zeros(5,1,64,64)\n",
    "out = net(input)\n",
    "pred = out[:,1]"
   ]
  }
 ],
 "metadata": {
  "interpreter": {
   "hash": "dd7cab7c88bdb20641d6dc9b305732e3e3550557ef647e67d9a16fc4dfca0e13"
  },
  "kernelspec": {
   "display_name": "Python 3.8.8 ('base': conda)",
   "language": "python",
   "name": "python3"
  },
  "language_info": {
   "codemirror_mode": {
    "name": "ipython",
    "version": 3
   },
   "file_extension": ".py",
   "mimetype": "text/x-python",
   "name": "python",
   "nbconvert_exporter": "python",
   "pygments_lexer": "ipython3",
   "version": "3.8.8"
  },
  "orig_nbformat": 4
 },
 "nbformat": 4,
 "nbformat_minor": 2
}
